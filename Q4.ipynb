{
 "cells": [
  {
   "cell_type": "code",
   "execution_count": 22,
   "metadata": {},
   "outputs": [],
   "source": [
    "import numpy as np\n",
    "import matplotlib.pyplot as plt\n",
    "from numpy import linalg as LA"
   ]
  },
  {
   "cell_type": "code",
   "execution_count": 23,
   "metadata": {},
   "outputs": [],
   "source": [
    "def sol_svd(A,b):\n",
    "    u, s, vt = np.linalg.svd(A, full_matrices=True)\n",
    "    r = LA.matrix_rank(A)\n",
    "    U = u[:,:r]\n",
    "    Vt = vt[:r,:]\n",
    "    S = s[:r]\n",
    "    sigmaI = np.diag(1/S)\n",
    "    temp1 = np.matmul(U, np.matmul(sigmaI, Vt))\n",
    "    temp2 = np.transpose(temp1)\n",
    "    x = np.matmul(temp2, b)\n",
    "    return x"
   ]
  },
  {
   "cell_type": "code",
   "execution_count": 24,
   "metadata": {},
   "outputs": [],
   "source": [
    "def gen_A_input(mat,k):\n",
    "    N = np.shape(mat)[0]\n",
    "    M = (2*k+3)*k\n",
    "    A = np.zeros((N,M))\n",
    "#    A[:,0] = mat[:,0]\n",
    "    if (k>=1):\n",
    "        for i in range(k):\n",
    "            A[2*i+2:,2*i:2+2*i] = mat[:-(2*i+2),:]\n",
    "        si = 0\n",
    "        for i in range(2*k):\n",
    "            si = si + i\n",
    "            for j in range(i+1):\n",
    "                A[:,2*k+si+j] = A[:,i]*A[:,j]\n",
    "    mean = A.mean(axis=0)\n",
    "    std = np.std(A, axis=0)\n",
    "    A = (A-mean)/std        # Normalize data\n",
    "    A1 = np.ones((N,M+1))\n",
    "    A1[:,:-1] = A           # Adding the constant term\n",
    "    return [A1, mean, std]  # mean and std to normalize to second matrix"
   ]
  },
  {
   "cell_type": "code",
   "execution_count": 25,
   "metadata": {},
   "outputs": [],
   "source": [
    "def gen_A_output(mat,k,mean,std):\n",
    "    N = np.shape(mat)[0]\n",
    "    M = (2*k+3)*k\n",
    "    A = np.zeros((N,M))\n",
    "#    A[:,0] = mat[:,0]\n",
    "    if (k>=1):\n",
    "        for i in range(k):\n",
    "            A[i+1:,2*i:2+2*i] = mat[:-(i+1),:]\n",
    "        si = 0\n",
    "        for i in range(2*k):\n",
    "            si = si + i\n",
    "            for j in range(i+1):\n",
    "                A[:,2*k+si+j] = A[:,i]*A[:,j]\n",
    "    A = (A-mean)/std\n",
    "    A1 = np.ones((N,M+1))\n",
    "    A1[:,:-1] = A\n",
    "    return A1"
   ]
  },
  {
   "cell_type": "code",
   "execution_count": 26,
   "metadata": {},
   "outputs": [],
   "source": [
    "def gre(x,val):\n",
    "    n = np.size(x)\n",
    "    for i in range(n):\n",
    "        if (np.absolute(x[i])<=val):\n",
    "            x[i] = 0\n",
    "    return x"
   ]
  },
  {
   "cell_type": "code",
   "execution_count": 119,
   "metadata": {},
   "outputs": [],
   "source": [
    "f = open('data_60ps', \"r\")\n",
    "mat1 =  np.genfromtxt(f)\n",
    "mat_input = mat1[:,1:]"
   ]
  },
  {
   "cell_type": "code",
   "execution_count": 120,
   "metadata": {},
   "outputs": [],
   "source": [
    "k = 2   # number of time steps\n",
    "[A, mean, std] = gen_A_input(mat_input,k)"
   ]
  },
  {
   "cell_type": "code",
   "execution_count": 136,
   "metadata": {},
   "outputs": [],
   "source": [
    "b1 = mat_input[:,1]\n",
    "x1 = sol_svd(A,b1)\n",
    "x2 = gre(x1,0.05)  # Avoiding over-fitting \n",
    "n = np.size(x2)\n",
    "x = np.reshape(x1, (n, 1))"
   ]
  },
  {
   "cell_type": "code",
   "execution_count": 137,
   "metadata": {},
   "outputs": [],
   "source": [
    "f2 = open('data_120ps', \"r\")\n",
    "mat2 =  np.genfromtxt(f2)\n",
    "mat_output = mat2[:,1:]\n",
    "A_output = gen_A_output(mat_output,k,mean,std)"
   ]
  },
  {
   "cell_type": "code",
   "execution_count": 138,
   "metadata": {},
   "outputs": [
    {
     "data": {
      "image/png": "[encoded data removed]",
      "text/plain": [
       "<Figure size 432x288 with 1 Axes>"
      ]
     },
     "metadata": {
      "needs_background": "light"
     },
     "output_type": "display_data"
    }
   ],
   "source": [
    "b = np.reshape(mat_output[:,1],(41,1))\n",
    "y = np.matmul(A_output,x)\n",
    "m = np.mean(b)\n",
    "R = np.matmul(np.transpose(y-b), y-b)/np.matmul(np.transpose(b), b)\n",
    "plt.plot(y,'r*',label='Fit')\n",
    "plt.plot(b,'b',label='Original')\n",
    "plt.legend()\n",
    "plt.show()"
   ]
  },
  {
   "cell_type": "code",
   "execution_count": 139,
   "metadata": {},
   "outputs": [
    {
     "data": {
      "text/plain": [
       "array([[0.01773751]])"
      ]
     },
     "execution_count": 139,
     "metadata": {},
     "output_type": "execute_result"
    }
   ],
   "source": [
    "R"
   ]
  },
  {
   "cell_type": "code",
   "execution_count": 140,
   "metadata": {},
   "outputs": [
    {
     "data": {
      "text/plain": [
       "array([-0.9898929 ,  1.12863132,  0.96635986, -0.32061652,  0.95679271,\n",
       "        0.13572009,  0.32644515, -0.81422653, -0.27782802, -0.09585753,\n",
       "        0.        , -1.81444879,  0.12056683,  1.20803244,  0.58539584])"
      ]
     },
     "execution_count": 140,
     "metadata": {},
     "output_type": "execute_result"
    }
   ],
   "source": [
    "x1"
   ]
  },
  {
   "cell_type": "code",
   "execution_count": null,
   "metadata": {},
   "outputs": [],
   "source": []
  }
 ],
 "metadata": {
  "kernelspec": {
   "display_name": "Python 3",
   "language": "python",
   "name": "python3"
  },
  "language_info": {
   "codemirror_mode": {
    "name": "ipython",
    "version": 3
   },
   "file_extension": ".py",
   "mimetype": "text/x-python",
   "name": "python",
   "nbconvert_exporter": "python",
   "pygments_lexer": "ipython3",
   "version": "3.7.4"
  }
 },
 "nbformat": 4,
 "nbformat_minor": 2
}
