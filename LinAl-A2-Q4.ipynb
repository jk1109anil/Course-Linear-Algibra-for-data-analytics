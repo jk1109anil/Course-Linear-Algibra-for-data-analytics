{
 "cells": [
  {
   "cell_type": "code",
   "execution_count": 1,
   "metadata": {},
   "outputs": [],
   "source": [
    "import numpy as np\n",
    "import matplotlib.pyplot as plt\n",
    "from numpy import linalg as LA"
   ]
  },
  {
   "cell_type": "code",
   "execution_count": 2,
   "metadata": {},
   "outputs": [],
   "source": [
    "def sol_svd(A,b):\n",
    "    u, s, vt = np.linalg.svd(A, full_matrices=True)\n",
    "    r = LA.matrix_rank(A)\n",
    "    U = u[:,:r]\n",
    "    Vt = vt[:r,:]\n",
    "    S = s[:r]\n",
    "    sigmaI = np.diag(1/S)\n",
    "    temp1 = np.matmul(U, np.matmul(sigmaI, Vt))\n",
    "    temp2 = np.transpose(temp1)\n",
    "    x = np.matmul(temp2, b)\n",
    "    return x"
   ]
  },
  {
   "cell_type": "code",
   "execution_count": 3,
   "metadata": {},
   "outputs": [],
   "source": [
    "def gen_A_input(mat,k):\n",
    "    N = np.shape(mat)[0]\n",
    "    M = (2*k+5)*k+2\n",
    "    A = np.zeros((N,M))\n",
    "    A[:,0] = mat[:,0]\n",
    "    if (k>=1):\n",
    "        for i in range(k):\n",
    "            A[2*i+2:,1+2*i:3+2*i] = mat[:-(2*i+2),:]\n",
    "        si = 0\n",
    "        for i in range(2*k+1):\n",
    "            si = si + i\n",
    "            for j in range(i+1):\n",
    "                A[:,2*k+1+si+j] = A[:,i]*A[:,j]\n",
    "    mean = A.mean(axis=0)\n",
    "    std = np.std(A, axis=0)\n",
    "    A = (A-mean)/std        # Normalize data\n",
    "    A1 = np.ones((N,M+1))\n",
    "    A1[:,:-1] = A           # Adding the constant term\n",
    "    return [A1, mean, std]  # mean and std to normalize to second matrix"
   ]
  },
  {
   "cell_type": "code",
   "execution_count": 4,
   "metadata": {},
   "outputs": [],
   "source": [
    "def gen_A_output(mat,k,mean,std):\n",
    "    N = np.shape(mat)[0]\n",
    "    M = (2*k+5)*k+2\n",
    "    A = np.zeros((N,M))\n",
    "    A[:,0] = mat[:,0]\n",
    "    if (k>=1):\n",
    "        for i in range(k):\n",
    "            A[i+1:,1+2*i:3+2*i] = mat[:-(i+1),:]\n",
    "        si = 0\n",
    "        for i in range(2*k+1):\n",
    "            si = si + i\n",
    "            for j in range(i+1):\n",
    "                A[:,2*k+1+si+j] = A[:,i]*A[:,j]\n",
    "    A = (A-mean)/std\n",
    "    A1 = np.ones((N,M+1))\n",
    "    A1[:,:-1] = A\n",
    "    return A1"
   ]
  },
  {
   "cell_type": "code",
   "execution_count": 5,
   "metadata": {},
   "outputs": [],
   "source": [
    "def gre(x,val):\n",
    "    n = np.size(x)\n",
    "    for i in range(n):\n",
    "        if (np.absolute(x[i])<=val):\n",
    "            x[i] = 0\n",
    "    return x"
   ]
  },
  {
   "cell_type": "code",
   "execution_count": 79,
   "metadata": {},
   "outputs": [],
   "source": [
    "f = open('data_30ps', \"r\")\n",
    "mat1 =  np.genfromtxt(f)\n",
    "mat_input = mat1[:,1:]"
   ]
  },
  {
   "cell_type": "code",
   "execution_count": 80,
   "metadata": {},
   "outputs": [],
   "source": [
    "k = 2\n",
    "[A, mean, std] = gen_A_input(mat_input,k)"
   ]
  },
  {
   "cell_type": "code",
   "execution_count": 96,
   "metadata": {},
   "outputs": [],
   "source": [
    "b1 = mat_input[:,1]\n",
    "x1 = sol_svd(A,b1)\n",
    "x2 = gre(x1,0.05)  # Avoiding over-fitting \n",
    "n = np.size(x2)\n",
    "x = np.reshape(x1, (n, 1))"
   ]
  },
  {
   "cell_type": "code",
   "execution_count": 97,
   "metadata": {},
   "outputs": [],
   "source": [
    "f2 = open('data_120ps', \"r\")\n",
    "mat2 =  np.genfromtxt(f2)\n",
    "mat_output = mat2[:,1:]\n",
    "A_output = gen_A_output(mat_output,k,mean,std)"
   ]
  },
  {
   "cell_type": "code",
   "execution_count": 98,
   "metadata": {},
   "outputs": [
    {
     "data": {
      "image/png": "[encoded data removed]",
      "text/plain": [
       "<Figure size 432x288 with 1 Axes>"
      ]
     },
     "metadata": {
      "needs_background": "light"
     },
     "output_type": "display_data"
    }
   ],
   "source": [
    "b = np.reshape(mat_output[:,1],(41,1))\n",
    "y = np.matmul(A_output,x)\n",
    "m = np.mean(b)\n",
    "R = np.matmul(np.transpose(y-b), y-b)\n",
    "plt.plot(y,'r*',label='Fit')\n",
    "plt.plot(b,'b',label='Original')\n",
    "plt.legend()\n",
    "plt.show()"
   ]
  },
  {
   "cell_type": "code",
   "execution_count": 99,
   "metadata": {},
   "outputs": [
    {
     "data": {
      "text/plain": [
       "array([[1.33559748]])"
      ]
     },
     "execution_count": 99,
     "metadata": {},
     "output_type": "execute_result"
    }
   ],
   "source": [
    "R"
   ]
  },
  {
   "cell_type": "code",
   "execution_count": 95,
   "metadata": {},
   "outputs": [
    {
     "data": {
      "text/plain": [
       "array([-0.33125983,  0.        , -0.74481973,  0.        ,  0.74956453,\n",
       "        0.        , -5.92612401,  6.26049865,  0.        ,  0.21710513,\n",
       "        2.17037999,  5.81515497, -6.98098237, -0.11181912,  0.78832493,\n",
       "        0.        , -0.11222672, -3.3150455 ,  0.        ,  1.32233025,\n",
       "        0.7383567 ])"
      ]
     },
     "execution_count": 95,
     "metadata": {},
     "output_type": "execute_result"
    }
   ],
   "source": [
    "x1"
   ]
  },
  {
   "cell_type": "code",
   "execution_count": null,
   "metadata": {},
   "outputs": [],
   "source": []
  }
 ],
 "metadata": {
  "kernelspec": {
   "display_name": "Python 3",
   "language": "python",
   "name": "python3"
  },
  "language_info": {
   "codemirror_mode": {
    "name": "ipython",
    "version": 3
   },
   "file_extension": ".py",
   "mimetype": "text/x-python",
   "name": "python",
   "nbconvert_exporter": "python",
   "pygments_lexer": "ipython3",
   "version": "3.7.4"
  }
 },
 "nbformat": 4,
 "nbformat_minor": 2
}
