{
 "cells": [
  {
   "cell_type": "code",
   "execution_count": 40,
   "metadata": {},
   "outputs": [],
   "source": [
    "import numpy as np\n",
    "import matplotlib.pyplot as plt\n",
    "from numpy import linalg as LA"
   ]
  },
  {
   "cell_type": "code",
   "execution_count": 41,
   "metadata": {},
   "outputs": [],
   "source": [
    "def PCA_svd(A,r,n):\n",
    "    [x1, x2] = np.shape(A)\n",
    "    mean = np.reshape(A.mean(axis=1), (x1,1))\n",
    "    Ac = A - np.matmul(mean, np.ones((1,x2)) )\n",
    "    u, s, vt = np.linalg.svd(Ac, full_matrices=True)\n",
    "    U = u[:,:r]\n",
    "    Vt = vt[:r,:]\n",
    "    S = s[:r]\n",
    "    sigma = np.diag(S)\n",
    "    n1 = np.shape(Ac)[1]\n",
    "    k = 1/np.sqrt(n1-1)\n",
    "    y1 = np.random.normal(0, 0.1, r*n)\n",
    "    y = np.reshape(y1, (r,n))\n",
    "    temp1 = np.matmul(U, sigma)\n",
    "    temp2 = np.matmul(temp1, y)\n",
    "    V = k*temp2 + np.matmul(mean, np.ones((1,n)) )\n",
    "    print(temp1) ##############\n",
    "    return V"
   ]
  },
  {
   "cell_type": "code",
   "execution_count": 42,
   "metadata": {},
   "outputs": [],
   "source": [
    "def delay_calc(v):\n",
    "    v = np.reshape(v, (10,1))\n",
    "    D = 2*np.ones((10,1))\n",
    "    D[0] = 1\n",
    "    D[2] = 1\n",
    "    D[6] = 1\n",
    "    d = D+(2.0/1.3)*D*(v-0.5)\n",
    "    D9 = d[3]+d[8]+max(d[0], d[1])\n",
    "    D6 = d[5]+max(d[2], d[5])\n",
    "    D7 = d[6]+max(d[7], D6)\n",
    "    Del = d[9]+max(D7, D9)\n",
    "    return Del"
   ]
  },
  {
   "cell_type": "code",
   "execution_count": 43,
   "metadata": {},
   "outputs": [],
   "source": [
    "f = open('vt-data.txt', \"r\")\n",
    "mat =  np.genfromtxt(f, delimiter=\",\")"
   ]
  },
  {
   "cell_type": "code",
   "execution_count": 76,
   "metadata": {},
   "outputs": [],
   "source": [
    "r = 1\n",
    "n = 100\n",
    "delay = np.zeros((n,1))"
   ]
  },
  {
   "cell_type": "code",
   "execution_count": 64,
   "metadata": {},
   "outputs": [],
   "source": [
    "s = np.random.normal(0.5, 0.1, 10*n) # for part 1\n",
    "V = np.reshape(s, (10,n))"
   ]
  },
  {
   "cell_type": "code",
   "execution_count": 71,
   "metadata": {},
   "outputs": [
    {
     "name": "stdout",
     "output_type": "stream",
     "text": [
      "[[-0.96500999]\n",
      " [-0.96559426]\n",
      " [-0.96556265]\n",
      " [-0.9659927 ]\n",
      " [-0.96592737]\n",
      " [-0.96564458]\n",
      " [-0.96536952]\n",
      " [-0.9658258 ]\n",
      " [-0.96587283]\n",
      " [-0.96537658]]\n"
     ]
    }
   ],
   "source": [
    "V = PCA_svd(mat,r,n) # for part 2"
   ]
  },
  {
   "cell_type": "code",
   "execution_count": 77,
   "metadata": {},
   "outputs": [],
   "source": [
    "V = mat # for checking (change n=100)"
   ]
  },
  {
   "cell_type": "code",
   "execution_count": 78,
   "metadata": {},
   "outputs": [],
   "source": [
    "for i in range(n):  # calculate delay\n",
    "    delay[i] = delay_calc(V[:,i])"
   ]
  },
  {
   "cell_type": "code",
   "execution_count": 79,
   "metadata": {},
   "outputs": [
    {
     "data": {
      "image/png": "[encoded data removed]",
      "text/plain": [
       "<Figure size 432x288 with 1 Axes>"
      ]
     },
     "metadata": {
      "needs_background": "light"
     },
     "output_type": "display_data"
    }
   ],
   "source": [
    "plt.hist(delay, bins = 10)\n",
    "plt.xlabel('delay')\n",
    "plt.ylabel('number')\n",
    "plt.show()"
   ]
  },
  {
   "cell_type": "code",
   "execution_count": 80,
   "metadata": {},
   "outputs": [
    {
     "data": {
      "text/plain": [
       "1.1885777791299228"
      ]
     },
     "execution_count": 80,
     "metadata": {},
     "output_type": "execute_result"
    }
   ],
   "source": [
    "np.std(delay)"
   ]
  },
  {
   "cell_type": "code",
   "execution_count": 81,
   "metadata": {},
   "outputs": [
    {
     "data": {
      "text/plain": [
       "7.987138461538462"
      ]
     },
     "execution_count": 81,
     "metadata": {},
     "output_type": "execute_result"
    }
   ],
   "source": [
    "np.mean(delay)"
   ]
  },
  {
   "cell_type": "code",
   "execution_count": null,
   "metadata": {},
   "outputs": [],
   "source": []
  }
 ],
 "metadata": {
  "kernelspec": {
   "display_name": "Python 3",
   "language": "python",
   "name": "python3"
  },
  "language_info": {
   "codemirror_mode": {
    "name": "ipython",
    "version": 3
   },
   "file_extension": ".py",
   "mimetype": "text/x-python",
   "name": "python",
   "nbconvert_exporter": "python",
   "pygments_lexer": "ipython3",
   "version": "3.7.4"
  }
 },
 "nbformat": 4,
 "nbformat_minor": 2
}
